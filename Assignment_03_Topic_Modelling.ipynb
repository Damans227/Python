{
  "nbformat": 4,
  "nbformat_minor": 0,
  "metadata": {
    "colab": {
      "name": "Assignment 03 - Topic Modelling",
      "provenance": [],
      "authorship_tag": "ABX9TyNt5V/EmKC0EaFEqcexc6lW",
      "include_colab_link": true
    },
    "kernelspec": {
      "name": "python3",
      "display_name": "Python 3"
    }
  },
  "cells": [
    {
      "cell_type": "markdown",
      "metadata": {
        "id": "view-in-github",
        "colab_type": "text"
      },
      "source": [
        "<a href=\"https://colab.research.google.com/github/Damans227/Python/blob/master/Assignment_03_Topic_Modelling.ipynb\" target=\"_parent\"><img src=\"https://colab.research.google.com/assets/colab-badge.svg\" alt=\"Open In Colab\"/></a>"
      ]
    },
    {
      "cell_type": "markdown",
      "metadata": {
        "id": "ley8D_ZtrGSD"
      },
      "source": [
        "##Import required libraries\n"
      ]
    },
    {
      "cell_type": "code",
      "metadata": {
        "id": "nw62mlQ-UCIg"
      },
      "source": [
        "import gensim\n",
        "import io\n",
        "import pandas as pd\n",
        "import nltk\n",
        "import numpy as np\n",
        "from copy import deepcopy\n",
        "from bertopic import BERTopic"
      ],
      "execution_count": 103,
      "outputs": []
    },
    {
      "cell_type": "code",
      "metadata": {
        "colab": {
          "base_uri": "https://localhost:8080/"
        },
        "id": "shq8MPTojT5p",
        "outputId": "81e6870b-6209-47c8-d96a-ffeff62ae914"
      },
      "source": [
        "!pip install bertopic[visualization]"
      ],
      "execution_count": 81,
      "outputs": [
        {
          "output_type": "stream",
          "text": [
            "Collecting bertopic[visualization]\n",
            "  Downloading https://files.pythonhosted.org/packages/13/39/e65e64257055dda6713129d8e34f02538ec8f9ba41721e7c2898eda290c0/bertopic-0.5.0-py2.py3-none-any.whl\n",
            "Collecting sentence-transformers>=0.4.1\n",
            "\u001b[?25l  Downloading https://files.pythonhosted.org/packages/6a/e2/84d6acfcee2d83164149778a33b6bdd1a74e1bcb59b2b2cd1b861359b339/sentence-transformers-0.4.1.2.tar.gz (64kB)\n",
            "\u001b[K     |████████████████████████████████| 71kB 3.5MB/s \n",
            "\u001b[?25hRequirement already satisfied: tqdm>=4.41.1 in /usr/local/lib/python3.6/dist-packages (from bertopic[visualization]) (4.41.1)\n",
            "Requirement already satisfied: pandas>=1.1.5 in /usr/local/lib/python3.6/dist-packages (from bertopic[visualization]) (1.1.5)\n",
            "Collecting hdbscan>=0.8.27\n",
            "\u001b[?25l  Downloading https://files.pythonhosted.org/packages/32/bb/59a75bc5ac66a9b4f9b8f979e4545af0e98bb1ca4e6ae96b3b956b554223/hdbscan-0.8.27.tar.gz (6.4MB)\n",
            "\u001b[K     |████████████████████████████████| 6.4MB 9.5MB/s \n",
            "\u001b[?25h  Installing build dependencies ... \u001b[?25l\u001b[?25hdone\n",
            "  Getting requirements to build wheel ... \u001b[?25l\u001b[?25hdone\n",
            "    Preparing wheel metadata ... \u001b[?25l\u001b[?25hdone\n",
            "Requirement already satisfied: torch>=1.4.0 in /usr/local/lib/python3.6/dist-packages (from bertopic[visualization]) (1.7.0+cu101)\n",
            "Requirement already satisfied: scikit-learn>=0.22.2.post1 in /usr/local/lib/python3.6/dist-packages (from bertopic[visualization]) (0.22.2.post1)\n",
            "Requirement already satisfied: numpy>=1.19.2 in /usr/local/lib/python3.6/dist-packages (from bertopic[visualization]) (1.19.5)\n",
            "Requirement already satisfied: umap-learn>=0.5.0 in /usr/local/lib/python3.6/dist-packages (from bertopic[visualization]) (0.5.0)\n",
            "Collecting plotly<4.14.3,>=4.7.0; extra == \"visualization\"\n",
            "\u001b[?25l  Downloading https://files.pythonhosted.org/packages/9d/2e/69579c3db25fa4f85d70a10f8a98d52c2b4a0dcbd153e8f17f425761bef4/plotly-4.14.2-py2.py3-none-any.whl (13.2MB)\n",
            "\u001b[K     |████████████████████████████████| 13.2MB 28.1MB/s \n",
            "\u001b[?25hRequirement already satisfied: matplotlib>=3.2.2; extra == \"visualization\" in /usr/local/lib/python3.6/dist-packages (from bertopic[visualization]) (3.2.2)\n",
            "Collecting transformers<5.0.0,>=3.1.0\n",
            "\u001b[?25l  Downloading https://files.pythonhosted.org/packages/98/87/ef312eef26f5cecd8b17ae9654cdd8d1fae1eb6dbd87257d6d73c128a4d0/transformers-4.3.2-py3-none-any.whl (1.8MB)\n",
            "\u001b[K     |████████████████████████████████| 1.8MB 35.1MB/s \n",
            "\u001b[?25hRequirement already satisfied: scipy in /usr/local/lib/python3.6/dist-packages (from sentence-transformers>=0.4.1->bertopic[visualization]) (1.4.1)\n",
            "Requirement already satisfied: nltk in /usr/local/lib/python3.6/dist-packages (from sentence-transformers>=0.4.1->bertopic[visualization]) (3.2.5)\n",
            "Collecting sentencepiece\n",
            "\u001b[?25l  Downloading https://files.pythonhosted.org/packages/14/67/e42bd1181472c95c8cda79305df848264f2a7f62740995a46945d9797b67/sentencepiece-0.1.95-cp36-cp36m-manylinux2014_x86_64.whl (1.2MB)\n",
            "\u001b[K     |████████████████████████████████| 1.2MB 47.4MB/s \n",
            "\u001b[?25hRequirement already satisfied: pytz>=2017.2 in /usr/local/lib/python3.6/dist-packages (from pandas>=1.1.5->bertopic[visualization]) (2018.9)\n",
            "Requirement already satisfied: python-dateutil>=2.7.3 in /usr/local/lib/python3.6/dist-packages (from pandas>=1.1.5->bertopic[visualization]) (2.8.1)\n",
            "Requirement already satisfied: six in /usr/local/lib/python3.6/dist-packages (from hdbscan>=0.8.27->bertopic[visualization]) (1.15.0)\n",
            "Requirement already satisfied: joblib>=1.0 in /usr/local/lib/python3.6/dist-packages (from hdbscan>=0.8.27->bertopic[visualization]) (1.0.0)\n",
            "Requirement already satisfied: cython>=0.27 in /usr/local/lib/python3.6/dist-packages (from hdbscan>=0.8.27->bertopic[visualization]) (0.29.21)\n",
            "Requirement already satisfied: future in /usr/local/lib/python3.6/dist-packages (from torch>=1.4.0->bertopic[visualization]) (0.16.0)\n",
            "Requirement already satisfied: typing-extensions in /usr/local/lib/python3.6/dist-packages (from torch>=1.4.0->bertopic[visualization]) (3.7.4.3)\n",
            "Requirement already satisfied: dataclasses in /usr/local/lib/python3.6/dist-packages (from torch>=1.4.0->bertopic[visualization]) (0.8)\n",
            "Requirement already satisfied: numba>=0.49 in /usr/local/lib/python3.6/dist-packages (from umap-learn>=0.5.0->bertopic[visualization]) (0.51.2)\n",
            "Requirement already satisfied: pynndescent>=0.5 in /usr/local/lib/python3.6/dist-packages (from umap-learn>=0.5.0->bertopic[visualization]) (0.5.1)\n",
            "Requirement already satisfied: retrying>=1.3.3 in /usr/local/lib/python3.6/dist-packages (from plotly<4.14.3,>=4.7.0; extra == \"visualization\"->bertopic[visualization]) (1.3.3)\n",
            "Requirement already satisfied: cycler>=0.10 in /usr/local/lib/python3.6/dist-packages (from matplotlib>=3.2.2; extra == \"visualization\"->bertopic[visualization]) (0.10.0)\n",
            "Requirement already satisfied: pyparsing!=2.0.4,!=2.1.2,!=2.1.6,>=2.0.1 in /usr/local/lib/python3.6/dist-packages (from matplotlib>=3.2.2; extra == \"visualization\"->bertopic[visualization]) (2.4.7)\n",
            "Requirement already satisfied: kiwisolver>=1.0.1 in /usr/local/lib/python3.6/dist-packages (from matplotlib>=3.2.2; extra == \"visualization\"->bertopic[visualization]) (1.3.1)\n",
            "Collecting tokenizers<0.11,>=0.10.1\n",
            "\u001b[?25l  Downloading https://files.pythonhosted.org/packages/fd/5b/44baae602e0a30bcc53fbdbc60bd940c15e143d252d658dfdefce736ece5/tokenizers-0.10.1-cp36-cp36m-manylinux2010_x86_64.whl (3.2MB)\n",
            "\u001b[K     |████████████████████████████████| 3.2MB 48.9MB/s \n",
            "\u001b[?25hCollecting sacremoses\n",
            "\u001b[?25l  Downloading https://files.pythonhosted.org/packages/7d/34/09d19aff26edcc8eb2a01bed8e98f13a1537005d31e95233fd48216eed10/sacremoses-0.0.43.tar.gz (883kB)\n",
            "\u001b[K     |████████████████████████████████| 890kB 40.2MB/s \n",
            "\u001b[?25hRequirement already satisfied: packaging in /usr/local/lib/python3.6/dist-packages (from transformers<5.0.0,>=3.1.0->sentence-transformers>=0.4.1->bertopic[visualization]) (20.9)\n",
            "Requirement already satisfied: regex!=2019.12.17 in /usr/local/lib/python3.6/dist-packages (from transformers<5.0.0,>=3.1.0->sentence-transformers>=0.4.1->bertopic[visualization]) (2019.12.20)\n",
            "Requirement already satisfied: requests in /usr/local/lib/python3.6/dist-packages (from transformers<5.0.0,>=3.1.0->sentence-transformers>=0.4.1->bertopic[visualization]) (2.23.0)\n",
            "Requirement already satisfied: importlib-metadata; python_version < \"3.8\" in /usr/local/lib/python3.6/dist-packages (from transformers<5.0.0,>=3.1.0->sentence-transformers>=0.4.1->bertopic[visualization]) (3.4.0)\n",
            "Requirement already satisfied: filelock in /usr/local/lib/python3.6/dist-packages (from transformers<5.0.0,>=3.1.0->sentence-transformers>=0.4.1->bertopic[visualization]) (3.0.12)\n",
            "Requirement already satisfied: llvmlite<0.35,>=0.34.0.dev0 in /usr/local/lib/python3.6/dist-packages (from numba>=0.49->umap-learn>=0.5.0->bertopic[visualization]) (0.34.0)\n",
            "Requirement already satisfied: setuptools in /usr/local/lib/python3.6/dist-packages (from numba>=0.49->umap-learn>=0.5.0->bertopic[visualization]) (53.0.0)\n",
            "Requirement already satisfied: click in /usr/local/lib/python3.6/dist-packages (from sacremoses->transformers<5.0.0,>=3.1.0->sentence-transformers>=0.4.1->bertopic[visualization]) (7.1.2)\n",
            "Requirement already satisfied: chardet<4,>=3.0.2 in /usr/local/lib/python3.6/dist-packages (from requests->transformers<5.0.0,>=3.1.0->sentence-transformers>=0.4.1->bertopic[visualization]) (3.0.4)\n",
            "Requirement already satisfied: certifi>=2017.4.17 in /usr/local/lib/python3.6/dist-packages (from requests->transformers<5.0.0,>=3.1.0->sentence-transformers>=0.4.1->bertopic[visualization]) (2020.12.5)\n",
            "Requirement already satisfied: idna<3,>=2.5 in /usr/local/lib/python3.6/dist-packages (from requests->transformers<5.0.0,>=3.1.0->sentence-transformers>=0.4.1->bertopic[visualization]) (2.10)\n",
            "Requirement already satisfied: urllib3!=1.25.0,!=1.25.1,<1.26,>=1.21.1 in /usr/local/lib/python3.6/dist-packages (from requests->transformers<5.0.0,>=3.1.0->sentence-transformers>=0.4.1->bertopic[visualization]) (1.24.3)\n",
            "Requirement already satisfied: zipp>=0.5 in /usr/local/lib/python3.6/dist-packages (from importlib-metadata; python_version < \"3.8\"->transformers<5.0.0,>=3.1.0->sentence-transformers>=0.4.1->bertopic[visualization]) (3.4.0)\n",
            "Building wheels for collected packages: hdbscan\n",
            "  Building wheel for hdbscan (PEP 517) ... \u001b[?25l\u001b[?25hdone\n",
            "  Created wheel for hdbscan: filename=hdbscan-0.8.27-cp36-cp36m-linux_x86_64.whl size=2311396 sha256=6f48bebe3a2ce76ff374e169000d6ef082af3ae9380024192d058aa8cd30eee0\n",
            "  Stored in directory: /root/.cache/pip/wheels/42/63/fb/314ad6c3b270887a3ecb588b8e5aac50b0fad38ff89bb6dff2\n",
            "Successfully built hdbscan\n",
            "Building wheels for collected packages: sentence-transformers, sacremoses\n",
            "  Building wheel for sentence-transformers (setup.py) ... \u001b[?25l\u001b[?25hdone\n",
            "  Created wheel for sentence-transformers: filename=sentence_transformers-0.4.1.2-cp36-none-any.whl size=103068 sha256=83eba4a4487316751e2e4602097ae7b43cc8299cdcf5ae7b83f06e55c4c9af99\n",
            "  Stored in directory: /root/.cache/pip/wheels/3d/33/d1/5703dd56199c09d4a1b41e0c07fb4e7765a84d787cbdc48ac3\n",
            "  Building wheel for sacremoses (setup.py) ... \u001b[?25l\u001b[?25hdone\n",
            "  Created wheel for sacremoses: filename=sacremoses-0.0.43-cp36-none-any.whl size=893261 sha256=39b838b0389f2b4091a76be8250939cf5cef11eec72e4eba5a33bc00613a44e6\n",
            "  Stored in directory: /root/.cache/pip/wheels/29/3c/fd/7ce5c3f0666dab31a50123635e6fb5e19ceb42ce38d4e58f45\n",
            "Successfully built sentence-transformers sacremoses\n",
            "Installing collected packages: tokenizers, sacremoses, transformers, sentencepiece, sentence-transformers, hdbscan, plotly, bertopic\n",
            "  Found existing installation: plotly 4.4.1\n",
            "    Uninstalling plotly-4.4.1:\n",
            "      Successfully uninstalled plotly-4.4.1\n",
            "Successfully installed bertopic-0.5.0 hdbscan-0.8.27 plotly-4.14.2 sacremoses-0.0.43 sentence-transformers-0.4.1.2 sentencepiece-0.1.95 tokenizers-0.10.1 transformers-4.3.2\n"
          ],
          "name": "stdout"
        }
      ]
    },
    {
      "cell_type": "markdown",
      "metadata": {
        "id": "xJefLNDUrNH_"
      },
      "source": [
        "##Import Corpus and Stop Words"
      ]
    },
    {
      "cell_type": "code",
      "metadata": {
        "colab": {
          "resources": {
            "http://localhost:8080/nbextensions/google.colab/files.js": {
              "data": "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",
              "ok": true,
              "headers": [
                [
                  "content-type",
                  "application/javascript"
                ]
              ],
              "status": 200,
              "status_text": ""
            }
          },
          "base_uri": "https://localhost:8080/",
          "height": 72
        },
        "id": "0WTS5O-qUGq_",
        "outputId": "fc7a413c-e1cf-4009-ce62-c33930a760b4"
      },
      "source": [
        "from google.colab import files\n",
        "corpusfile = files.upload()\n"
      ],
      "execution_count": 69,
      "outputs": [
        {
          "output_type": "display_data",
          "data": {
            "text/html": [
              "\n",
              "     <input type=\"file\" id=\"files-a6ab299d-eaf6-444d-85ef-03e0dce25a3f\" name=\"files[]\" multiple disabled\n",
              "        style=\"border:none\" />\n",
              "     <output id=\"result-a6ab299d-eaf6-444d-85ef-03e0dce25a3f\">\n",
              "      Upload widget is only available when the cell has been executed in the\n",
              "      current browser session. Please rerun this cell to enable.\n",
              "      </output>\n",
              "      <script src=\"/nbextensions/google.colab/files.js\"></script> "
            ],
            "text/plain": [
              "<IPython.core.display.HTML object>"
            ]
          },
          "metadata": {
            "tags": []
          }
        },
        {
          "output_type": "stream",
          "text": [
            "Saving 230 VP assertions corpus - Group 6.csv to 230 VP assertions corpus - Group 6 (4).csv\n"
          ],
          "name": "stdout"
        }
      ]
    },
    {
      "cell_type": "code",
      "metadata": {
        "colab": {
          "resources": {
            "http://localhost:8080/nbextensions/google.colab/files.js": {
              "data": "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",
              "ok": true,
              "headers": [
                [
                  "content-type",
                  "application/javascript"
                ]
              ],
              "status": 200,
              "status_text": ""
            }
          },
          "base_uri": "https://localhost:8080/",
          "height": 72
        },
        "id": "3rkxYQTBUcLN",
        "outputId": "7826292b-fbb0-42cc-dbf5-3e3221af00e4"
      },
      "source": [
        "from google.colab import files\n",
        "stopwordsfile = files.upload()"
      ],
      "execution_count": 70,
      "outputs": [
        {
          "output_type": "display_data",
          "data": {
            "text/html": [
              "\n",
              "     <input type=\"file\" id=\"files-3431163d-ba58-4d3f-8ec5-dd82d9356741\" name=\"files[]\" multiple disabled\n",
              "        style=\"border:none\" />\n",
              "     <output id=\"result-3431163d-ba58-4d3f-8ec5-dd82d9356741\">\n",
              "      Upload widget is only available when the cell has been executed in the\n",
              "      current browser session. Please rerun this cell to enable.\n",
              "      </output>\n",
              "      <script src=\"/nbextensions/google.colab/files.js\"></script> "
            ],
            "text/plain": [
              "<IPython.core.display.HTML object>"
            ]
          },
          "metadata": {
            "tags": []
          }
        },
        {
          "output_type": "stream",
          "text": [
            "Saving VP_assertions_stop_words_5303_W2021.txt to VP_assertions_stop_words_5303_W2021 (2).txt\n"
          ],
          "name": "stdout"
        }
      ]
    },
    {
      "cell_type": "markdown",
      "metadata": {
        "id": "GZFGZQnarX9l"
      },
      "source": [
        "##Converting Corpus and stop words to LIST() format for processing"
      ]
    },
    {
      "cell_type": "code",
      "metadata": {
        "id": "1UVhkqjrUjhT"
      },
      "source": [
        "corpus_df = pd.read_csv(io.BytesIO(corpusfile['230 VP assertions corpus - Group 6.csv']))"
      ],
      "execution_count": 104,
      "outputs": []
    },
    {
      "cell_type": "code",
      "metadata": {
        "id": "qk8levT8ppr_"
      },
      "source": [
        "corpus_ls = list(corpus_df.loc[:,\"content\"].values)"
      ],
      "execution_count": 106,
      "outputs": []
    },
    {
      "cell_type": "code",
      "metadata": {
        "id": "Pm8cG1UcU8ca"
      },
      "source": [
        "stopwords = list(io.BytesIO(stopwordsfile['VP_assertions_stop_words_5303_W2021.txt']))"
      ],
      "execution_count": 73,
      "outputs": []
    },
    {
      "cell_type": "code",
      "metadata": {
        "id": "hlGpvIS3U-oR"
      },
      "source": [
        "en_stops = set(stopwords)"
      ],
      "execution_count": 74,
      "outputs": []
    },
    {
      "cell_type": "code",
      "metadata": {
        "id": "zocXYI6IVTVw"
      },
      "source": [
        "clean_corpus=[]\n",
        "\n",
        "def process_texts(texts):\n",
        "    for word in texts: \n",
        "      if word not in en_stops:\n",
        "        return texts\n"
      ],
      "execution_count": 75,
      "outputs": []
    },
    {
      "cell_type": "code",
      "metadata": {
        "id": "wYG5XQZBecWA"
      },
      "source": [
        "clean_corpus=process_texts(corpus_ls)"
      ],
      "execution_count": 107,
      "outputs": []
    },
    {
      "cell_type": "code",
      "metadata": {
        "colab": {
          "base_uri": "https://localhost:8080/"
        },
        "id": "QnJbPluKgSLg",
        "outputId": "6172e544-eb36-4195-924c-ad561e7fc815"
      },
      "source": [
        "clean_corpus"
      ],
      "execution_count": 113,
      "outputs": [
        {
          "output_type": "execute_result",
          "data": {
            "text/plain": [
              "['Access resources required to scale at relatively low cost or for free by creating benefits for the resource owners that they cannot create alone',\n",
              " 'Adapt offers to each market',\n",
              " 'Align interests of investors, the company top management team, and its owners',\n",
              " 'Allow resource owners to make money using your products and services',\n",
              " 'Apply big data analytics to produce insightful information about users, suppliers and customers to enhance shopping pattern analysis, improve customers experience, predict market trends, provide more secure online payment solutions, increase personalization, optimize and automate pricing, and provide dynamic customer service',\n",
              " 'Apply digital technology to brand, market, sell, and service customers more cost effectively than competitors',\n",
              " 'Apply processes that continuously improve the cybersecurity of the company as well as its offers, channels, and resources',\n",
              " 'Apply processes that make offers easier to understand, produce and deliver',\n",
              " 'Arrange and deploy differently existing company resources',\n",
              " 'Assimilate and apply what companies do to scale early, rapidly and securely',\n",
              " 'Attain positions in cross border networks which provide access to privileged information',\n",
              " 'Automate the existing processes that add the most benefits to customers and require the most human intervention',\n",
              " 'Automatically extract the information a user, customer, investor or stakeholder wants from a vast amount of information',\n",
              " 'Be responsible and accountable for creating and making visible the quantifiable benefits the company delivers its stakeholders',\n",
              " 'Build and deploy unique and difficult to imitate skills and capabilities to select, combine, and use the resource combinations that create and capture high company value',\n",
              " 'Build operational cross border capabilities early',\n",
              " 'Build company wide capability to combine diverse resources and deploy them in a profitable way',\n",
              " 'Build internet based capabilities to acquire and retain customers during the initial stages of company lifecycle',\n",
              " 'Champion the opportunity with confidence',\n",
              " 'Combine resources that make your company distinct to resource owners and pay for themselves',\n",
              " 'Combine two or more resources to create value that exceeds the sum of the value created from each resource separately',\n",
              " 'Combine company resources with those of other resource owners to create value that cannot be created by your company alone',\n",
              " 'Communicate and demonstrate the importance the company places on the security of information acquired from and transferred between stakeholders',\n",
              " 'Concurrently improve the offers to your customers, investors and other resource owners as well as in the mechanisms required to scale',\n",
              " 'Concurrently sell existing company offers, a compelling image of the company that will exist in the future, and the benefits of the unique information you collect',\n",
              " 'Continuously improve individuals, operations and infrastructures to advance and deliver a portfolio of innovative offers ',\n",
              " 'Continuously improve the user interfaces and applications that directly influence the entirety of the customer experience including personalized content, quality messaging, and the delivery and returns process',\n",
              " 'Continuously improve value propositions based on results and feedback',\n",
              " 'Continuously use customer feedback to support rapid offer iterations and enable co-creation of customized products and services ',\n",
              " 'Define the ideal target customers profiles and engage them relentlessly',\n",
              " 'Constantly monitor customers buying habits and deliver offers that are convenient, cater to customer demands, are secure and offer excellent customer experience ',\n",
              " 'Develop a compelling image of your future company and use it to convince investors to provide funding and resource owners to provide resources the company needs to scale',\n",
              " 'Develop and sell products and services that address a problem, job to be done or a need that is widespread, growing, important, urgent, and manifests itself in diverse ways',\n",
              " 'Develop and sell offers that are hard to replicate, original, fit successful commercialization patterns, and ride an external trend',\n",
              " 'Develop value propositions for each investor and resource owner with three components: i) What benefits your company provides; ii) What you want in return; and iii) Why they should choose your offer instead of alternatives',\n",
              " 'Eliminate communication and coordination barriers with partners that are geographically separate, institutionally distant, and operate in different time zones',\n",
              " 'Embed and operate in cross border markets: i) work with locals and help them succeed, ii) adjust offers to meet local needs, iii) target customer segments that are different than those targeted in home region, iv) use internet to market and promote offers to locals, and v) develop relationships with leaders in communities with information and resources that are important to succeeding in the cross border market',\n",
              " 'Enable locals to succeed because of new company',\n",
              " 'Enable power users to help improve company offers using the internet',\n",
              " 'Enable users to participate in the rapid development of company offers',\n",
              " 'Enter a different geographical market by partnering with or purchasing local companies',\n",
              " 'Expand brand coverage and eliminate intermediaries',\n",
              " 'Improve links, interactions and shared purpose with locals in each region the company operates',\n",
              " 'Incorporate cybersecurity into value propositions',\n",
              " 'Invest to improve cybersecurity of the value chain',\n",
              " 'Make decisions on how to best deploy a combination of external and internal resources to create high value, not just decisions about the use of the resources the company owns, while complying with cultural, legal, regulatory, and other relevant norms',\n",
              " 'Provide a variety of complementary offers to each market',\n",
              " 'Offer investors higher returns, shorter time to payoffs and lower risks relative to other opportunities',\n",
              " 'Provide rewards that satisfy customer needs for recognition of their loyalty',\n",
              " 'Coordinate, evaluate and share knowledge between headquarters, cross border units and among the units themselves',\n",
              " 'Orchestrate a community comprised of the owners of the resources required to scale',\n",
              " 'Perpetuate a company scaling culture that includes high growth ambitions, delivering new benefits to customers, embedding in communities led by fast growth companies, keeping the company and its partners secure from cyberattacks, attracting investment, exceeding high standards, continuous improvement, experimentation, iteration, learning, and short feedback loops',\n",
              " 'Provide evidence that supports why stakeholders should believe the company will be able to deliver on its value propositions',\n",
              " 'Provide returns that leave the most important resource owners better off than they would have if they had not contributed to the company',\n",
              " 'Sell high quality offers at lower prices compared to competitors',\n",
              " 'Sell online using a variety of online and offline promotional channels',\n",
              " 'Sell offers that the target market perceives better than available alternatives',\n",
              " 'Shape an ethical culture for all company activities',\n",
              " 'Simultaneously develop global learning capabilities, cross border flexibility, and global competitiveness',\n",
              " 'Specify the kinds of innovation that are important for the company  (e.g., technological capabilities that are hard to imitate, business model innovation, rapid routine innovation), how the innovation will create value for stakeholders, and how the company will capture part of the value created as revenue',\n",
              " 'To start a business, create an offer to solve a specific problem in a specific market segment, ensure that the offer fits the market, and validate that your business model is scalable and profitable',\n",
              " 'Strengthen cybersecurity attributes of offers compared to competitors',\n",
              " 'Incorporate new technologies satisfying a popular trend to upgrade offers',\n",
              " 'Use an end to end solution that links procurement directly with end customers to eliminate or reduce inventory and the number of intermediaries between the company and customers',\n",
              " 'Use physical brick and mortar stores to allow customers to test products, but use online channels for the bulk of sales',\n",
              " 'Use scientific and technological advances to develop innovative offers',\n",
              " 'Use trusted platforms which enable payments, refunds, logistics, data analytics and offer localization',\n",
              " 'When you ask investors for money, clearly articulate: i) Why you need the money; ii) What amount you need; iii) What you are promising to return and under what conditions; iv) What you are going to do with the money to create returns for investors; and v) your governance model and the names and biographies of the people who sit on your Board of Directors and your Board of Advisors',\n",
              " 'Offer benefits to key stakeholders that are important, differentiated from, and superior to, competing offers',\n",
              " 'Develop value propositions that enhance your customers and suppliers outcomes, marketing strategies, and competitive advantages',\n",
              " 'Incorporate elements of value into your value propositions to stakeholders that address four kinds of needs - functional, emotional, life changing, and social impact',\n",
              " 'Integrate environmental, economic, and social aspects of value into the value propositions for your key stakeholders',\n",
              " 'Deliver high value to customers before, during and after they use your offers',\n",
              " 'Develop value propositions for employees that enhance employee satisfaction, psychological attachment, and behavioral commitment toward your company',\n",
              " 'The required investment and the resulting most significant stakeholder benefits should be quantified in specific, measurable, attainable, relevant and time-bound terms',\n",
              " 'Align value propositions for stakeholders in a way that they support, agree with and reinforce each other',\n",
              " 'Develop value propositions for those who pay, not just those who benefit',\n",
              " 'Develop value propositions for key members of the value chain that align with  key members value propositions as well as improve the competence of the value chain',\n",
              " 'Continuously find new and innovative ways to offer value to customers in existing and new markets',\n",
              " 'Continuously create new markets and serve broader stakeholder needs',\n",
              " 'Align investor value propositions with scaling master plan objectives so they are mutually reinforcing',\n",
              " 'Learn from value propositions of companies that have scaled early, rapidly and securely and use them to differentiate your company',\n",
              " 'To align the value propositions for customers, investors, and resource owners, make explicit the benefits: (i) an investor gains by the presence of the customer and resource owner, (ii) a customer gains by the presence of the investor and the resource owner, and (iii) the resource owner gains by the presence of the customer and the investors',\n",
              " 'To align value propositions for customers, investors, and resource owners, co-create a unique resource combination that did not previously exist',\n",
              " 'Align value propositions for all relevant stakeholders by developing an objective that benefits them all',\n",
              " 'Track changes in stakeholders value propositions and use the information to realign the value propositions',\n",
              " 'Align communication with investors on company risks, opportunities, and economics for successful fundraising rounds',\n",
              " 'Implement a stakeholder centric approach to satisfy stakeholder expectations in all markets',\n",
              " 'Collaborate with the company value chain to determine optimal offers that achieve customer fulfillment and enhance customer value',\n",
              " 'Work with partners that can Implement flexible automation for small batch production to satisfy customers',\n",
              " 'Incorporate how high value created from selection, combination and deployment resource decisions will be distributed to resource owners into the scaling master plan',\n",
              " 'Expand information about the company, its offers, its achievements, and its affiliations',\n",
              " 'Broaden company offers',\n",
              " 'Develop an innovative product that adds more benefits to target customers relative to competitor products',\n",
              " 'Provide investors with evidence that the proposed business model and target market can generate enough sales for the new company to be investable ',\n",
              " 'Convince potential investors that the company offers investors a superior value proposition compared to competing companies',\n",
              " 'Understand who your potential investors are, what they want to know, and what investment opportunities they look for before pursuing a binding agreement',\n",
              " 'Segment the capital market based on geographic, demographic, psychographic, and behavioral variables',\n",
              " 'Translate your message into values and priorities that the targeted investors can readily relate and understand ',\n",
              " 'Provide investors a compelling short-term financial value proposition and a vision of favorable medium- and longer-term value propositions',\n",
              " 'Develop investor value propositions describing the path to value creation in return for investors funds and confidence',\n",
              " 'Assess any new business opportunities by assigning the highest priority to developing a new product, expanding to a new market as the second priority, and maintaining market share as the third priority',\n",
              " 'Focus resources where the customer value proposition and the investor value proposition matches investors criteria',\n",
              " 'Unbundle the value chain and the jobs to be done within it to outsource lower value tasks to freelance workers and perform higher value tasks internally',\n",
              " 'Enable freelance workers to become world class service providers',\n",
              " 'Implement business processes that are entirely managed by software and continuously improve with use',\n",
              " 'Use data as the foundation for how the company operates and makes decisions',\n",
              " 'Use data and artificial intelligence to personalize offers to consumers',\n",
              " 'Sell in new domains where the company assets, capabilities and data can be easily moved to create value',\n",
              " 'Require directors to retain a portion of their compensation as equity',\n",
              " 'Enhance communication between investors, the top management team and the board of directors to increase returns to stakeholders and mitigate risks ',\n",
              " 'Establish cross border partnerships with third party service providers to serve customers regionally and globally',\n",
              " 'Deploy digital technology to simplify offers and overcome time, geographical and language barriers for customers',\n",
              " 'Deploy efficient  ecommerce technologies and automation to reduce company costs and lower prices of offers¬†',\n",
              " 'Enable employees, customers, users, investors and others to automatically extract information from company data for the purpose of decreasing costs and adding value to stakeholders ',\n",
              " 'Facilitate customer brand conversation prior to production, through social networks and forums to learn new demands and trends and enable co-creation of new products and services',\n",
              " 'Adapt value propositions to changes in customer segments',\n",
              " 'Introduce new offers often, monitor changes in sales closely, and remove offers that do not sell quickly',\n",
              " 'Build a community around  company brand, products and services, assemble community feedback and adapt',\n",
              " 'Create market specific brands and offers that resonate with local cultures',\n",
              " 'Deploy ecommerce resources to make company offers always accessible to everyone everywhere',\n",
              " 'Deploy ecommerce resources to reduce costs and improve customer experience',\n",
              " 'Build a community where each member supports the others rather than building many separate businesses ',\n",
              " 'Apply ecommerce to provide customers with buying options that are quick, convenient, and user-friendly ',\n",
              " 'Help customers save time and money by applying ecommerce to enable them to search products and services easily, make purchases and transfer money online',\n",
              " 'Provide customers an online catalog with detailed descriptions of offered products and services that helps them make purchasing decisions ',\n",
              " 'Attract traffic and new customers by targeting and retargeting users from search engines, referrals, adds and social media',\n",
              " 'Engage customers to produce testimonials, reviews and ratings that help new customers to make purchasing decisions with knowledge of other customers experiences',\n",
              " 'Provide vendors and suppliers with the real-time analytics on views and sales required to boost their sales and profits ',\n",
              " 'Use a cross-channel customer-centric approach to provide a seamless, unified, and contextual customer experience, irrespective of device, channel, or platform of interaction',\n",
              " 'Make each channel a seamless brand extension to enable the customer to pick up the conversation on any channel in seamless and unified experiences',\n",
              " 'Constantly increase average order value through discounted bundles, enable upsell on check out, set a free delivery threshold, offer cash backs, enhance personalized recommendations, and create loyalty programs based on spending tiers',\n",
              " 'Increase order fulfillment and delivery capacity through partnering with third party service providers and acquiring drop shipping facilities ',\n",
              " 'Establish trust and positive rapport with your customers that leads to long-term, mutually beneficial business relationships ',\n",
              " 'Understand your customers, investors and other stakeholders business models, motivations, and industries ',\n",
              " 'Understand your customers, investors and other stakeholders social and cultural norms, personal accomplishments, and business communication styles',\n",
              " 'Always think from your customers perspective (organizationally and personally)',\n",
              " 'Always search for a win-win scenario',\n",
              " 'Give your customers, investors, and stakeholders a good reason to like and trust you and your company',\n",
              " 'Adjust your mood to match your customers moods and work to find common ground to build familiarity',\n",
              " 'Show unselfish behaviour towards customers, investors and other stakeholders with whom you interact',\n",
              " 'Actively shape customers, investors and stakeholders expectations about the company and its products',\n",
              " 'Listen to your customers, take their feedback seriously, and adjust operations as needed',\n",
              " 'Customize ideal next steps to coordinate activities between new company and customer ',\n",
              " \"Establish a well-rehearsed, concise, and irresistible way to communicate the benefits and differentiation of your company's product and service offers, how products and services can be tailored to customers requirements, and how offers contribute to customers achieving their organizational and personal goals\",\n",
              " 'To embody behaviours you wish others to adopt, dedicate a portion of each day to grow customer base and actively search for new opportunities, focus efforts and conversations on how the company is going to create and deliver value to new and existing customers, craft irresistible customer value propositions that you and your salespeople can use to attract new customers, and set specific, measurable, attainable, relevant, and timely objectives (SMART) that align company, customer, investor and partner interests and skills',\n",
              " 'Recognize and drive achievements through public display of rewards, status and praise',\n",
              " 'To encourage development of cultural norms which will enhance company performance, view negative events as opportunities to develop capabilities; reward peer collaboration and support; foster behaviour which helps to increase optimism, overcome adversity, and increase resiliency to failure; reward independent initiative to improve one‚Äôs own environment to enhance performance; and maintain a positive outlook on sales expectations to acquire new customers',\n",
              " 'Design internal processes to increase information transfer and reduce job dissatisfaction ',\n",
              " 'Increase access to new networks and customers for salespeople to connect with and sell to',\n",
              " 'Increase access to up-to-date information about root causes of customer problems and needs; competitors products, value propositions and strategies; customer types and their business needs, buying logic, solution strategies; and markets and institutional environments',\n",
              " 'Instill a sense of purpose by pursuing a compelling vision for the company in the future',\n",
              " 'Align work environment and motivational mechanisms with cultural norms of people working in it',\n",
              " 'Train salespeople to absorb actionable market information, understand customers and competitors business models; craft irresistible value propositions; communicate customer value; identify high-value customers; increase situational awareness; use supportive technology; learn from personal and team successes and failures; and adapt to dynamic selling situations (think on your feet)',\n",
              " 'To avoid sources of salespeople dissatisfaction with their jobs, clarify salesperson role and expectations; eliminate conflicting role tasks; incentivize salespeople sufficiently; ensure strong leadership is in place; train and support; ensure role on team is a good fit to personality type and cultural imprint of person filling it',\n",
              " 'Use artificial intelligence to turn vast amounts of data and information into high value for customers, investors, users, and other stakeholders ',\n",
              " 'Digitize as much of your company as you can to create value for customers, reduce costs, and increase security',\n",
              " 'Brand the company and build the brand into one that has a strong market presence',\n",
              " 'Convince non-paying users to contribute to the development of the company products, channels, brand, and sources of competitive advantage ',\n",
              " 'Deliver better performance on the metrics that customers care about',\n",
              " 'Create a unique brand identity to differentiate from the competition',\n",
              " 'Establish partnerships that increase the demand for products that complement the company product',\n",
              " \"Showcase the extent to which the company's scaling-orientation has produced tangible results for its customers, investors, stakeholders and communities\",\n",
              " \"Integrate sales via website and social media platforms with company's sales strategy; provide information on company's products and services via social media platforms;  drive audience and prospects to a company online presence (e.g., social media platforms, website pages, blogs, forums, etc.); enable communication and motivate audience engagement (e.g., use infographics and photos to capture and sustain interest on social media and encourage online audience to seek more information; make social media a primary or complementary sales channel; co-create value on social media platforms (e.g., engage customers and encourage them to offer their feedback and ideas regarding their experience with the product/service); and provide real-time pricing and services\",\n",
              " \"Promote the company's achievements to date (e.g., awards, high-profile endorsements from established companies, sales, alliances, interactions with potential customers around prototypes); strength of company's scaling mater plan; and the company's potential to create local jobs, contribute to social goals and objectives, advance existing knowledge, and provide technological breakthroughs and patents\",\n",
              " \"To gain distinctive legitimacy in the eyes of stakeholders, attract customers, preferably well-known customers; balance stakeholders interests and satisfy their concerns; engage in communities comprised of customers and suppliers that are key to scaling your company's value; engage with powerful and recognizable actors (e.g., corporate elites, business leaders, prominent investors, university researchers); build a strong team; promote the founders‚Äô reputations, experiences, backgrounds, and passion; provide visible signals that the top management team has the capabilities to execute; and provide visible signals you have the parts in place to scale the company\",\n",
              " 'To gain distinctive legitimacy in the eyes of the local community, set goals and operate using methods that comply with formal regulations and legal requirements for private entities (e.g., tax authorities and regulatory agencies) as well as stablished law, rules, principles, or standards; behave in a way that fits expectations about what your company should look like, how it should behave, and the norms and values of society to which it should be attached, and the performance and professionalism levels of a company operating in its field; establish a familiar organizational structure and managerial roles; communicate symbols or values that imply legitimacy; and develop relationships with dominant and well-respected local organizations',\n",
              " \"To show the company's technical and knowledge expertise, develop and demonstrate a product or service prototype; demonstrate how technology and knowledge experience contribute to the company's scaling master plan; enhance the academic and technical reputation of the team; ensure that the company's proposed technological concept is valid; and contribute to university research projects\",\n",
              " 'Select and retain a consistent identity for the multiple audiences with which you interact',\n",
              " 'Contribute to the creation of public goods such as open source code, standards and  test beds',\n",
              " 'To globalize the local, develop core product that can be readily disseminated worldwide; integrate local innovation into global themes, products and services; insert local actors into global communication systems; and learn from multiple local experiences',\n",
              " 'To localize the global, innovate locally leveraging global standards that enable interoperability, portability, and reusability, and adapt global products to integrate into local context',\n",
              " 'To migrate the local, develop a replicable formula to repeat what worked in one local in many others; identify dimensions describing a local and what locals can be easily migrated; attract customers to invest in the development of localized offers; and engage the right local people',\n",
              " 'To disseminate the global, increase communications with global agents, and learn from global agents how to improve the global offer ',\n",
              " 'Innovate in scalable niche markets that are underserved',\n",
              " 'Focus on company differentiators and build upon complementary products that satisfy company needs and are not part of the company competencies',\n",
              " 'Simplify the complementarity of the company products and services',\n",
              " 'Ensure offers are scalable and meet rigorous reliability metrics',\n",
              " 'Provide platforms that are client centric and highly customizable',\n",
              " 'Operate a platform that is simple to use, attracts a very large market, and enables the company to control the quality of the offers traded on the platform',\n",
              " \"Use data obtained from third-party platforms to adjust your company's offers\",\n",
              " \"Enable partners to leverage your company's platform to make money \",\n",
              " 'Involve your preferred stakeholders in decision‐making to clarify objectives and develop different sets of alternative actions to achieve your business outcomes',\n",
              " 'Enable your preferred stakeholders to provide insights into the best ways for your organization to manage complex decision making processes and make choices that allow it to scale rapidly',\n",
              " 'Use preferred stakeholder input to develop strategies required to address business risks, successfully manage interruptions, delays, and disruptions',\n",
              " 'Involve preferred stakeholders in decision making about launching products, meeting client expectations and developing new ways of providing services to help the business scale rapidly',\n",
              " 'To achieve growth in the short term, enable communication and involvement of preferred stakeholders, create value with them and ensure that their interests align with your strategic decisions',\n",
              " 'Establish trustful and cooperative relationships with preferred stakeholders to increase chances for organizational success, contribute new knowledge and insights that shape informed decisions and successful execution of strategies',\n",
              " 'To pursue innovation, purchase your key products from a single supplier or a handful of suppliers with whom you can enter a partnering style collaborative relationship, i.e., integrate key suppliers into your new product development or continuous improvement processes',\n",
              " 'Seek relationships with suppliers who can increase your product and project success by mobilizing their capabilities to innovate and develop products when involved in the innovation process early on',\n",
              " 'Select suppliers that carefully integrate environmental and social concerns to support their customers through increased efficiency, fewer operational disruptions, less reputational consequences, or a robust image',\n",
              " 'Work closely with preferred customers to co‐create and co‐improve the value proposition that defines the best business transaction experience for all other customers ',\n",
              " 'Use an investor-type value proposition to convince customers to make a purchase and invest in the definition and improvement of the value proposition for possible future purchases that mutually enhance the business transaction experiences ',\n",
              " 'To scale early and rapidly, new companies need to engage with multiple preferred stakeholder groups to efficiently operate across borders, innovate relentlessly, profitably adopt emerging technologies, and execute capital investment programs that enable them to meet aggressive growth objectives',\n",
              " 'To scale your company, target socially responsible investors who seek both profit and social impact',\n",
              " 'Analyze past orders and expectations of future business to create and maintain a list of preferred customers',\n",
              " 'To attract preferred customers your company should allocate resources preferentially by customizing its products according to these customers wishes, offer innovations and privileged treatment',\n",
              " 'Consider your loyal customers as preferred customers as they tend to provide higher profits, higher return on investment, new revenue streams, referral business and brand advocacy',\n",
              " 'To scale early and rapidly in a competitive market, select investors that are aligned with your company interest and are willing to invest in new initiatives that lead company to success',\n",
              " 'To successfully implement your company scaling master plan develop value propositions for investors and resource owners first as these stakeholders have a core role in organizations value creation',\n",
              " 'To convince new investors to fund the financial needs of your company, create a compelling image of your organization future and be prepared to demonstrate that their return on investment will exceed risks associated with it ',\n",
              " 'Make sure your investors benefit more from their investment than a reasonable balance between risk and return; make them feel pride on their investment and make sure it is better than other opportunities',\n",
              " 'Before crafting investor value propositions identify the best type of funding that can fulfill your organizational financial needs ',\n",
              " 'Make connections and appeals to investors based on data about their habits, desires, interests, and affiliations ',\n",
              " 'Use recruitment value propositions that attract employees whose values and objectives are aligned with the overall objective of your organization',\n",
              " 'Develop active policies to communicate, educate, motivate, and align employees with your company strategy ',\n",
              " 'To achieve your company scaling objectives, keep your high performing employees and subject matter experts always happy and motivated better than any potential competitors',\n",
              " 'A winning value proposition aims at motivating and retaining those employees who are best equipped to help achieve the goals of the organization',\n",
              " 'Make consistent efforts to structure human resource strategies, procedures, and policies to further the aim of enhancing your employee value propositions since as a reliable source of saleable organizational value that has the desirable outcome of improving employee retention',\n",
              " 'To increase value co-creation with customers your company should create value propositions that encourage front line employees to motivate customers to participate in value co-creation',\n",
              " 'Understand your frontline employee motivation to fit their value proposition to co-creation context and offer services that encourage resource integration of employees and customers during a service interaction ',\n",
              " 'Seek to gain a preferred supplier status to gain a larger share of business',\n",
              " 'The main reasons that push a manufacturer toward its suppliers include but are not limited to manufacturers preference to: become less vertically integrated and focus on their core competencies; have the industry best standards and practices adopted through specialized suppliers’ knowledge and expertise; achieve competitive advantages by associating with the dedicated partner; become resilient to the external influences like economic crisis, political uncertainty, changing policies, rules and regulations; face supply chain disruptions due to environmental disasters; reduce the opportunistic behavior of the suppliers; compress the lead time as well as after sale service time; face the challenge of reduced product life cycles; attract and satisfy the increasingly demanding customers; face the increased competition in providing or capable of providing similar kind of advantages in the products/services; gain contract incentives from the suppliers; to ensure product availability and to protect bargaining power; and, reengineer the manufacturing systems as per lean, agile, le-agile and green manufacturing principles ',\n",
              " 'Achieve preferred supplier status to ensure long-term collaboration, reduce internal cost, increase sales, gain assistance and learning opportunities, more business, and economies of scale ',\n",
              " 'Encourage outstanding skills and competences of employees to proactively create a positive impact on your customer base ',\n",
              " 'Build trustworthy relationships with partners to better address customer needs and establish a clear vision where benefits and growth opportunities are provided to enable commercial legitimacy ',\n",
              " 'Pick partners depending on their clear and adequate preparation of the value proposition they offer ',\n",
              " 'Your goals and objectives should be aligned not only with your investors, suppliers, partners, and employees but also with that of relevant governments ',\n",
              " 'Limitations in budget might demand to determine value for multiple stakeholders, including government agencies ',\n",
              " 'Continually evaluate your suppliers based on cost, delivery, quality, delivery lead time, health safety information and cash flow ',\n",
              " 'Choose suppliers who possess a wide range of capabilities including financial services and environmentally friendly capabilities ',\n",
              " 'Build a relationship with your suppliers instead of just seeking business transactions with them ',\n",
              " 'Work with suppliers who can attract and retain the best resellers within your distribution channel, thereby reducing the need for switching resellers and incurring the associated switching costs',\n",
              " 'Supplier management should take measures to convey how the supplier activities are creating added value for reseller partners and to track the reseller relationship with the supplier',\n",
              " 'Share ownership with employees who can enhance value creation to benefit stakeholders',\n",
              " 'Manage customer portfolio to develop and maintain customer relationships that ensure stable long term profitability of the firm ',\n",
              " 'Make sure stakeholders reconcile divergent interests by making strategic decisions and allocating strategic resources aligned with all stakeholder interests',\n",
              " 'Enable product co-creation so that both your company and customers invest money, time, effort, and reputation to produce the customer value proposition that anchors or will anchor their business transactions ',\n",
              " 'Enable product co-creation so that both your company and customers invest money, time, effort, and reputation to produce the customer value proposition that anchors or will anchor their business transactions ',\n",
              " 'Develop organizational routines for identifying and selecting collaboration opportunities to attain higher levels of competitive advantage from your relationships with your supplier base ']"
            ]
          },
          "metadata": {
            "tags": []
          },
          "execution_count": 113
        }
      ]
    },
    {
      "cell_type": "markdown",
      "metadata": {
        "id": "uMTVMM6DsJO4"
      },
      "source": [
        "##Creating Topics"
      ]
    },
    {
      "cell_type": "code",
      "metadata": {
        "id": "ah5Kafc7fGvN"
      },
      "source": [
        "model = BERTopic(language=\"english\")"
      ],
      "execution_count": 84,
      "outputs": []
    },
    {
      "cell_type": "code",
      "metadata": {
        "id": "mVV4UcX_hRRI"
      },
      "source": [
        "topics, probs = model.fit_transform(clean_corpus)"
      ],
      "execution_count": 110,
      "outputs": []
    },
    {
      "cell_type": "markdown",
      "metadata": {
        "id": "RMTQgV9jsPme"
      },
      "source": [
        "##Extract Topics"
      ]
    },
    {
      "cell_type": "code",
      "metadata": {
        "colab": {
          "base_uri": "https://localhost:8080/",
          "height": 142
        },
        "id": "XRBAbYv4h0_V",
        "outputId": "bcff165f-d9da-460b-c0b1-8660367e7f63"
      },
      "source": [
        "model.get_topic_freq()"
      ],
      "execution_count": 111,
      "outputs": [
        {
          "output_type": "execute_result",
          "data": {
            "text/html": [
              "<div>\n",
              "<style scoped>\n",
              "    .dataframe tbody tr th:only-of-type {\n",
              "        vertical-align: middle;\n",
              "    }\n",
              "\n",
              "    .dataframe tbody tr th {\n",
              "        vertical-align: top;\n",
              "    }\n",
              "\n",
              "    .dataframe thead th {\n",
              "        text-align: right;\n",
              "    }\n",
              "</style>\n",
              "<table border=\"1\" class=\"dataframe\">\n",
              "  <thead>\n",
              "    <tr style=\"text-align: right;\">\n",
              "      <th></th>\n",
              "      <th>Topic</th>\n",
              "      <th>Count</th>\n",
              "    </tr>\n",
              "  </thead>\n",
              "  <tbody>\n",
              "    <tr>\n",
              "      <th>0</th>\n",
              "      <td>1</td>\n",
              "      <td>196</td>\n",
              "    </tr>\n",
              "    <tr>\n",
              "      <th>1</th>\n",
              "      <td>-1</td>\n",
              "      <td>21</td>\n",
              "    </tr>\n",
              "    <tr>\n",
              "      <th>2</th>\n",
              "      <td>0</td>\n",
              "      <td>13</td>\n",
              "    </tr>\n",
              "  </tbody>\n",
              "</table>\n",
              "</div>"
            ],
            "text/plain": [
              "   Topic  Count\n",
              "0      1    196\n",
              "1     -1     21\n",
              "2      0     13"
            ]
          },
          "metadata": {
            "tags": []
          },
          "execution_count": 111
        }
      ]
    },
    {
      "cell_type": "code",
      "metadata": {
        "colab": {
          "base_uri": "https://localhost:8080/"
        },
        "id": "IfUhJCu5k3FO",
        "outputId": "b2a966b9-5d00-4cf1-ef61-e0c8cea5c6a7"
      },
      "source": [
        "model.get_topic(0)"
      ],
      "execution_count": 114,
      "outputs": [
        {
          "output_type": "execute_result",
          "data": {
            "text/plain": [
              "[('owners', 0.0759417608315857),\n",
              " ('resource', 0.052721516986779134),\n",
              " ('resources', 0.045900721847876295),\n",
              " ('company', 0.04496091604172348),\n",
              " ('brand', 0.04143824954972444),\n",
              " ('tasks', 0.038233189605771684),\n",
              " ('community', 0.03373252331708454),\n",
              " ('products', 0.030430639995516026),\n",
              " ('businesses', 0.023956296515080158),\n",
              " ('inventory', 0.023956296515080158)]"
            ]
          },
          "metadata": {
            "tags": []
          },
          "execution_count": 114
        }
      ]
    },
    {
      "cell_type": "code",
      "metadata": {
        "colab": {
          "base_uri": "https://localhost:8080/"
        },
        "id": "crf4jY-ElBpc",
        "outputId": "199f0d37-dcf3-454a-ddf0-5f748b4434c9"
      },
      "source": [
        "model.get_topic(1)"
      ],
      "execution_count": 115,
      "outputs": [
        {
          "output_type": "execute_result",
          "data": {
            "text/plain": [
              "[('customers', 0.017632347812675326),\n",
              " ('company', 0.014917796052615845),\n",
              " ('customer', 0.014566117931214172),\n",
              " ('offers', 0.014337292285595432),\n",
              " ('stakeholders', 0.013632489243150279),\n",
              " ('investors', 0.012600786100987691),\n",
              " ('business', 0.010953273724920436),\n",
              " ('suppliers', 0.01021987569876267),\n",
              " ('products', 0.010096726694411926),\n",
              " ('market', 0.009783495408692553)]"
            ]
          },
          "metadata": {
            "tags": []
          },
          "execution_count": 115
        }
      ]
    },
    {
      "cell_type": "code",
      "metadata": {
        "colab": {
          "base_uri": "https://localhost:8080/"
        },
        "id": "eRWw-Pk0lRE6",
        "outputId": "f047a3bf-29b4-4b1e-fe3e-c42c6b4b1be0"
      },
      "source": [
        "model.get_topic(-1)"
      ],
      "execution_count": 117,
      "outputs": [
        {
          "output_type": "execute_result",
          "data": {
            "text/plain": [
              "[('scale', 0.03263174208989166),\n",
              " ('investors', 0.031205490288957704),\n",
              " ('platforms', 0.028940628396695155),\n",
              " ('partners', 0.027834014645663197),\n",
              " ('privileged', 0.02621509463184116),\n",
              " ('company', 0.02506108764019946),\n",
              " ('resources', 0.02158728700166005),\n",
              " ('target', 0.020145413478978677),\n",
              " ('resource', 0.01983610666740143),\n",
              " ('business', 0.018729492916369474)]"
            ]
          },
          "metadata": {
            "tags": []
          },
          "execution_count": 117
        }
      ]
    },
    {
      "cell_type": "markdown",
      "metadata": {
        "id": "Y8s9k3kftV0e"
      },
      "source": [
        "##Topics without using stopwords"
      ]
    },
    {
      "cell_type": "code",
      "metadata": {
        "id": "-SC-7gZ6lSdC"
      },
      "source": [
        "new_model = BERTopic(language=\"english\")"
      ],
      "execution_count": 126,
      "outputs": []
    },
    {
      "cell_type": "code",
      "metadata": {
        "id": "Sh7l-hAolyfO"
      },
      "source": [
        "new_topics, new_probs = new_model.fit_transform(corpus_ls)"
      ],
      "execution_count": 127,
      "outputs": []
    },
    {
      "cell_type": "code",
      "metadata": {
        "colab": {
          "base_uri": "https://localhost:8080/",
          "height": 204
        },
        "id": "ZTtoIuMjmpYq",
        "outputId": "49f0f8f0-0891-448b-83b8-89fbb28ba331"
      },
      "source": [
        "new_model.get_topic_freq()"
      ],
      "execution_count": 128,
      "outputs": [
        {
          "output_type": "execute_result",
          "data": {
            "text/html": [
              "<div>\n",
              "<style scoped>\n",
              "    .dataframe tbody tr th:only-of-type {\n",
              "        vertical-align: middle;\n",
              "    }\n",
              "\n",
              "    .dataframe tbody tr th {\n",
              "        vertical-align: top;\n",
              "    }\n",
              "\n",
              "    .dataframe thead th {\n",
              "        text-align: right;\n",
              "    }\n",
              "</style>\n",
              "<table border=\"1\" class=\"dataframe\">\n",
              "  <thead>\n",
              "    <tr style=\"text-align: right;\">\n",
              "      <th></th>\n",
              "      <th>Topic</th>\n",
              "      <th>Count</th>\n",
              "    </tr>\n",
              "  </thead>\n",
              "  <tbody>\n",
              "    <tr>\n",
              "      <th>0</th>\n",
              "      <td>-1</td>\n",
              "      <td>97</td>\n",
              "    </tr>\n",
              "    <tr>\n",
              "      <th>1</th>\n",
              "      <td>1</td>\n",
              "      <td>40</td>\n",
              "    </tr>\n",
              "    <tr>\n",
              "      <th>2</th>\n",
              "      <td>2</td>\n",
              "      <td>33</td>\n",
              "    </tr>\n",
              "    <tr>\n",
              "      <th>3</th>\n",
              "      <td>0</td>\n",
              "      <td>31</td>\n",
              "    </tr>\n",
              "    <tr>\n",
              "      <th>4</th>\n",
              "      <td>3</td>\n",
              "      <td>29</td>\n",
              "    </tr>\n",
              "  </tbody>\n",
              "</table>\n",
              "</div>"
            ],
            "text/plain": [
              "   Topic  Count\n",
              "0     -1     97\n",
              "1      1     40\n",
              "2      2     33\n",
              "3      0     31\n",
              "4      3     29"
            ]
          },
          "metadata": {
            "tags": []
          },
          "execution_count": 128
        }
      ]
    },
    {
      "cell_type": "code",
      "metadata": {
        "colab": {
          "base_uri": "https://localhost:8080/",
          "height": 667
        },
        "id": "p-BB0o17mxpW",
        "outputId": "72827e70-d267-4a32-c60d-7bd25f2d9cc8"
      },
      "source": [
        "new_model.visualize_topics()"
      ],
      "execution_count": 129,
      "outputs": [
        {
          "output_type": "display_data",
          "data": {
            "text/html": [
              "<html>\n",
              "<head><meta charset=\"utf-8\" /></head>\n",
              "<body>\n",
              "    <div>            <script src=\"https://cdnjs.cloudflare.com/ajax/libs/mathjax/2.7.5/MathJax.js?config=TeX-AMS-MML_SVG\"></script><script type=\"text/javascript\">if (window.MathJax) {MathJax.Hub.Config({SVG: {font: \"STIX-Web\"}});}</script>                <script type=\"text/javascript\">window.PlotlyConfig = {MathJaxConfig: 'local'};</script>\n",
              "        <script src=\"https://cdn.plot.ly/plotly-latest.min.js\"></script>                <div id=\"7b35e8ac-e382-498c-88cc-50599033163f\" class=\"plotly-graph-div\" style=\"height:650px; width:650px;\"></div>            <script type=\"text/javascript\">                                    window.PLOTLYENV=window.PLOTLYENV || {};                                    if (document.getElementById(\"7b35e8ac-e382-498c-88cc-50599033163f\")) {                    Plotly.newPlot(                        \"7b35e8ac-e382-498c-88cc-50599033163f\",                        [{\"customdata\": [[-1.1426351070404053, 32.40484619140625, 0, \"investors | value | investor | resource | stakeholders\", 31], [-2.0237841606140137, 30.823068618774414, 1, \"stakeholders | company | employees | customers | scaling\", 40], [-0.44743403792381287, 31.637794494628906, 2, \"media | online | customers | social | customer\", 33], [-3.828561782836914, 28.76677131652832, 3, \"suppliers | supplier | products | product | integrate\", 29]], \"hovertemplate\": \"<b>Topic %{customdata[2]}</b><br>Words: %{customdata[3]}<br>Size: %{customdata[4]}\", \"legendgroup\": \"\", \"marker\": {\"color\": \"#B0BEC5\", \"line\": {\"color\": \"DarkSlateGrey\", \"width\": 2}, \"size\": [31, 40, 33, 29], \"sizemode\": \"area\", \"sizeref\": 0.025, \"symbol\": \"circle\"}, \"mode\": \"markers\", \"name\": \"\", \"orientation\": \"v\", \"showlegend\": false, \"type\": \"scatter\", \"x\": [-1.1426351070404053, -2.0237841606140137, -0.44743403792381287, -3.828561782836914], \"xaxis\": \"x\", \"y\": [32.40484619140625, 30.823068618774414, 31.637794494628906, 28.76677131652832], \"yaxis\": \"y\"}],                        {\"annotations\": [{\"showarrow\": false, \"text\": \"D1\", \"x\": -4.402846050262451, \"y\": 30.85866436958313, \"yshift\": 10}, {\"showarrow\": false, \"text\": \"D2\", \"x\": -2.391582491248846, \"xshift\": 10, \"y\": 37.26557312011719}], \"height\": 650, \"hoverlabel\": {\"bgcolor\": \"white\", \"font\": {\"family\": \"Rockwell\", \"size\": 16}}, \"legend\": {\"itemsizing\": \"constant\", \"tracegroupgap\": 0}, \"margin\": {\"t\": 60}, \"shapes\": [{\"line\": {\"color\": \"#CFD8DC\", \"width\": 2}, \"type\": \"line\", \"x0\": -2.391582491248846, \"x1\": -2.391582491248846, \"y0\": 24.451755619049074, \"y1\": 37.26557312011719}, {\"line\": {\"color\": \"#9E9E9E\", \"width\": 2}, \"type\": \"line\", \"x0\": -4.402846050262451, \"x1\": -0.38031893223524094, \"y0\": 30.85866436958313, \"y1\": 30.85866436958313}], \"sliders\": [{\"active\": 0, \"pad\": {\"t\": 50}, \"steps\": [{\"args\": [{\"marker.color\": [[\"red\", \"#B0BEC5\", \"#B0BEC5\", \"#B0BEC5\"]]}], \"label\": \"Topic 0\", \"method\": \"update\"}, {\"args\": [{\"marker.color\": [[\"#B0BEC5\", \"red\", \"#B0BEC5\", \"#B0BEC5\"]]}], \"label\": \"Topic 1\", \"method\": \"update\"}, {\"args\": [{\"marker.color\": [[\"#B0BEC5\", \"#B0BEC5\", \"red\", \"#B0BEC5\"]]}], \"label\": \"Topic 2\", \"method\": \"update\"}, {\"args\": [{\"marker.color\": [[\"#B0BEC5\", \"#B0BEC5\", \"#B0BEC5\", \"red\"]]}], \"label\": \"Topic 3\", \"method\": \"update\"}]}], \"template\": {\"data\": {\"bar\": [{\"error_x\": {\"color\": \"rgb(36,36,36)\"}, \"error_y\": {\"color\": \"rgb(36,36,36)\"}, \"marker\": {\"line\": {\"color\": \"white\", \"width\": 0.5}}, \"type\": \"bar\"}], \"barpolar\": [{\"marker\": {\"line\": {\"color\": \"white\", \"width\": 0.5}}, \"type\": \"barpolar\"}], \"carpet\": [{\"aaxis\": {\"endlinecolor\": \"rgb(36,36,36)\", \"gridcolor\": \"white\", \"linecolor\": \"white\", \"minorgridcolor\": \"white\", \"startlinecolor\": \"rgb(36,36,36)\"}, \"baxis\": {\"endlinecolor\": \"rgb(36,36,36)\", \"gridcolor\": \"white\", \"linecolor\": \"white\", \"minorgridcolor\": \"white\", \"startlinecolor\": \"rgb(36,36,36)\"}, \"type\": \"carpet\"}], \"choropleth\": [{\"colorbar\": {\"outlinewidth\": 1, \"tickcolor\": \"rgb(36,36,36)\", \"ticks\": \"outside\"}, \"type\": \"choropleth\"}], \"contour\": [{\"colorbar\": {\"outlinewidth\": 1, \"tickcolor\": \"rgb(36,36,36)\", \"ticks\": \"outside\"}, \"colorscale\": [[0.0, \"#440154\"], [0.1111111111111111, \"#482878\"], [0.2222222222222222, \"#3e4989\"], [0.3333333333333333, \"#31688e\"], [0.4444444444444444, \"#26828e\"], [0.5555555555555556, \"#1f9e89\"], [0.6666666666666666, \"#35b779\"], [0.7777777777777778, \"#6ece58\"], [0.8888888888888888, \"#b5de2b\"], [1.0, \"#fde725\"]], \"type\": \"contour\"}], \"contourcarpet\": [{\"colorbar\": {\"outlinewidth\": 1, \"tickcolor\": \"rgb(36,36,36)\", \"ticks\": \"outside\"}, \"type\": \"contourcarpet\"}], \"heatmap\": [{\"colorbar\": {\"outlinewidth\": 1, \"tickcolor\": \"rgb(36,36,36)\", \"ticks\": \"outside\"}, \"colorscale\": [[0.0, \"#440154\"], [0.1111111111111111, \"#482878\"], [0.2222222222222222, \"#3e4989\"], [0.3333333333333333, \"#31688e\"], [0.4444444444444444, \"#26828e\"], [0.5555555555555556, \"#1f9e89\"], [0.6666666666666666, \"#35b779\"], [0.7777777777777778, \"#6ece58\"], [0.8888888888888888, \"#b5de2b\"], [1.0, \"#fde725\"]], \"type\": \"heatmap\"}], \"heatmapgl\": [{\"colorbar\": {\"outlinewidth\": 1, \"tickcolor\": \"rgb(36,36,36)\", \"ticks\": \"outside\"}, \"colorscale\": [[0.0, \"#440154\"], [0.1111111111111111, \"#482878\"], [0.2222222222222222, \"#3e4989\"], [0.3333333333333333, \"#31688e\"], [0.4444444444444444, \"#26828e\"], [0.5555555555555556, \"#1f9e89\"], [0.6666666666666666, \"#35b779\"], [0.7777777777777778, \"#6ece58\"], [0.8888888888888888, \"#b5de2b\"], [1.0, \"#fde725\"]], \"type\": \"heatmapgl\"}], \"histogram\": [{\"marker\": {\"line\": {\"color\": \"white\", \"width\": 0.6}}, \"type\": \"histogram\"}], \"histogram2d\": [{\"colorbar\": {\"outlinewidth\": 1, \"tickcolor\": \"rgb(36,36,36)\", \"ticks\": \"outside\"}, \"colorscale\": [[0.0, \"#440154\"], [0.1111111111111111, \"#482878\"], [0.2222222222222222, \"#3e4989\"], [0.3333333333333333, \"#31688e\"], [0.4444444444444444, \"#26828e\"], [0.5555555555555556, \"#1f9e89\"], [0.6666666666666666, \"#35b779\"], [0.7777777777777778, \"#6ece58\"], [0.8888888888888888, \"#b5de2b\"], [1.0, \"#fde725\"]], \"type\": \"histogram2d\"}], \"histogram2dcontour\": [{\"colorbar\": {\"outlinewidth\": 1, \"tickcolor\": \"rgb(36,36,36)\", \"ticks\": \"outside\"}, \"colorscale\": [[0.0, \"#440154\"], [0.1111111111111111, \"#482878\"], [0.2222222222222222, \"#3e4989\"], [0.3333333333333333, \"#31688e\"], [0.4444444444444444, \"#26828e\"], [0.5555555555555556, \"#1f9e89\"], [0.6666666666666666, \"#35b779\"], [0.7777777777777778, \"#6ece58\"], [0.8888888888888888, \"#b5de2b\"], [1.0, \"#fde725\"]], \"type\": \"histogram2dcontour\"}], \"mesh3d\": [{\"colorbar\": {\"outlinewidth\": 1, \"tickcolor\": \"rgb(36,36,36)\", \"ticks\": \"outside\"}, \"type\": \"mesh3d\"}], \"parcoords\": [{\"line\": {\"colorbar\": {\"outlinewidth\": 1, \"tickcolor\": \"rgb(36,36,36)\", \"ticks\": \"outside\"}}, \"type\": \"parcoords\"}], \"pie\": [{\"automargin\": true, \"type\": \"pie\"}], \"scatter\": [{\"marker\": {\"colorbar\": {\"outlinewidth\": 1, \"tickcolor\": \"rgb(36,36,36)\", \"ticks\": \"outside\"}}, \"type\": \"scatter\"}], \"scatter3d\": [{\"line\": {\"colorbar\": {\"outlinewidth\": 1, \"tickcolor\": \"rgb(36,36,36)\", \"ticks\": \"outside\"}}, \"marker\": {\"colorbar\": {\"outlinewidth\": 1, \"tickcolor\": \"rgb(36,36,36)\", \"ticks\": \"outside\"}}, \"type\": \"scatter3d\"}], \"scattercarpet\": [{\"marker\": {\"colorbar\": {\"outlinewidth\": 1, \"tickcolor\": \"rgb(36,36,36)\", \"ticks\": \"outside\"}}, \"type\": \"scattercarpet\"}], \"scattergeo\": [{\"marker\": {\"colorbar\": {\"outlinewidth\": 1, \"tickcolor\": \"rgb(36,36,36)\", \"ticks\": \"outside\"}}, \"type\": \"scattergeo\"}], \"scattergl\": [{\"marker\": {\"colorbar\": {\"outlinewidth\": 1, \"tickcolor\": \"rgb(36,36,36)\", \"ticks\": \"outside\"}}, \"type\": \"scattergl\"}], \"scattermapbox\": [{\"marker\": {\"colorbar\": {\"outlinewidth\": 1, \"tickcolor\": \"rgb(36,36,36)\", \"ticks\": \"outside\"}}, \"type\": \"scattermapbox\"}], \"scatterpolar\": [{\"marker\": {\"colorbar\": {\"outlinewidth\": 1, \"tickcolor\": \"rgb(36,36,36)\", \"ticks\": \"outside\"}}, \"type\": \"scatterpolar\"}], \"scatterpolargl\": [{\"marker\": {\"colorbar\": {\"outlinewidth\": 1, \"tickcolor\": \"rgb(36,36,36)\", \"ticks\": \"outside\"}}, \"type\": \"scatterpolargl\"}], \"scatterternary\": [{\"marker\": {\"colorbar\": {\"outlinewidth\": 1, \"tickcolor\": \"rgb(36,36,36)\", \"ticks\": \"outside\"}}, \"type\": \"scatterternary\"}], \"surface\": [{\"colorbar\": {\"outlinewidth\": 1, \"tickcolor\": \"rgb(36,36,36)\", \"ticks\": \"outside\"}, \"colorscale\": [[0.0, \"#440154\"], [0.1111111111111111, \"#482878\"], [0.2222222222222222, \"#3e4989\"], [0.3333333333333333, \"#31688e\"], [0.4444444444444444, \"#26828e\"], [0.5555555555555556, \"#1f9e89\"], [0.6666666666666666, \"#35b779\"], [0.7777777777777778, \"#6ece58\"], [0.8888888888888888, \"#b5de2b\"], [1.0, \"#fde725\"]], \"type\": \"surface\"}], \"table\": [{\"cells\": {\"fill\": {\"color\": \"rgb(237,237,237)\"}, \"line\": {\"color\": \"white\"}}, \"header\": {\"fill\": {\"color\": \"rgb(217,217,217)\"}, \"line\": {\"color\": \"white\"}}, \"type\": \"table\"}]}, \"layout\": {\"annotationdefaults\": {\"arrowhead\": 0, \"arrowwidth\": 1}, \"autotypenumbers\": \"strict\", \"coloraxis\": {\"colorbar\": {\"outlinewidth\": 1, \"tickcolor\": \"rgb(36,36,36)\", \"ticks\": \"outside\"}}, \"colorscale\": {\"diverging\": [[0.0, \"rgb(103,0,31)\"], [0.1, \"rgb(178,24,43)\"], [0.2, \"rgb(214,96,77)\"], [0.3, \"rgb(244,165,130)\"], [0.4, \"rgb(253,219,199)\"], [0.5, \"rgb(247,247,247)\"], [0.6, \"rgb(209,229,240)\"], [0.7, \"rgb(146,197,222)\"], [0.8, \"rgb(67,147,195)\"], [0.9, \"rgb(33,102,172)\"], [1.0, \"rgb(5,48,97)\"]], \"sequential\": [[0.0, \"#440154\"], [0.1111111111111111, \"#482878\"], [0.2222222222222222, \"#3e4989\"], [0.3333333333333333, \"#31688e\"], [0.4444444444444444, \"#26828e\"], [0.5555555555555556, \"#1f9e89\"], [0.6666666666666666, \"#35b779\"], [0.7777777777777778, \"#6ece58\"], [0.8888888888888888, \"#b5de2b\"], [1.0, \"#fde725\"]], \"sequentialminus\": [[0.0, \"#440154\"], [0.1111111111111111, \"#482878\"], [0.2222222222222222, \"#3e4989\"], [0.3333333333333333, \"#31688e\"], [0.4444444444444444, \"#26828e\"], [0.5555555555555556, \"#1f9e89\"], [0.6666666666666666, \"#35b779\"], [0.7777777777777778, \"#6ece58\"], [0.8888888888888888, \"#b5de2b\"], [1.0, \"#fde725\"]]}, \"colorway\": [\"#1F77B4\", \"#FF7F0E\", \"#2CA02C\", \"#D62728\", \"#9467BD\", \"#8C564B\", \"#E377C2\", \"#7F7F7F\", \"#BCBD22\", \"#17BECF\"], \"font\": {\"color\": \"rgb(36,36,36)\"}, \"geo\": {\"bgcolor\": \"white\", \"lakecolor\": \"white\", \"landcolor\": \"white\", \"showlakes\": true, \"showland\": true, \"subunitcolor\": \"white\"}, \"hoverlabel\": {\"align\": \"left\"}, \"hovermode\": \"closest\", \"mapbox\": {\"style\": \"light\"}, \"paper_bgcolor\": \"white\", \"plot_bgcolor\": \"white\", \"polar\": {\"angularaxis\": {\"gridcolor\": \"rgb(232,232,232)\", \"linecolor\": \"rgb(36,36,36)\", \"showgrid\": false, \"showline\": true, \"ticks\": \"outside\"}, \"bgcolor\": \"white\", \"radialaxis\": {\"gridcolor\": \"rgb(232,232,232)\", \"linecolor\": \"rgb(36,36,36)\", \"showgrid\": false, \"showline\": true, \"ticks\": \"outside\"}}, \"scene\": {\"xaxis\": {\"backgroundcolor\": \"white\", \"gridcolor\": \"rgb(232,232,232)\", \"gridwidth\": 2, \"linecolor\": \"rgb(36,36,36)\", \"showbackground\": true, \"showgrid\": false, \"showline\": true, \"ticks\": \"outside\", \"zeroline\": false, \"zerolinecolor\": \"rgb(36,36,36)\"}, \"yaxis\": {\"backgroundcolor\": \"white\", \"gridcolor\": \"rgb(232,232,232)\", \"gridwidth\": 2, \"linecolor\": \"rgb(36,36,36)\", \"showbackground\": true, \"showgrid\": false, \"showline\": true, \"ticks\": \"outside\", \"zeroline\": false, \"zerolinecolor\": \"rgb(36,36,36)\"}, \"zaxis\": {\"backgroundcolor\": \"white\", \"gridcolor\": \"rgb(232,232,232)\", \"gridwidth\": 2, \"linecolor\": \"rgb(36,36,36)\", \"showbackground\": true, \"showgrid\": false, \"showline\": true, \"ticks\": \"outside\", \"zeroline\": false, \"zerolinecolor\": \"rgb(36,36,36)\"}}, \"shapedefaults\": {\"fillcolor\": \"black\", \"line\": {\"width\": 0}, \"opacity\": 0.3}, \"ternary\": {\"aaxis\": {\"gridcolor\": \"rgb(232,232,232)\", \"linecolor\": \"rgb(36,36,36)\", \"showgrid\": false, \"showline\": true, \"ticks\": \"outside\"}, \"baxis\": {\"gridcolor\": \"rgb(232,232,232)\", \"linecolor\": \"rgb(36,36,36)\", \"showgrid\": false, \"showline\": true, \"ticks\": \"outside\"}, \"bgcolor\": \"white\", \"caxis\": {\"gridcolor\": \"rgb(232,232,232)\", \"linecolor\": \"rgb(36,36,36)\", \"showgrid\": false, \"showline\": true, \"ticks\": \"outside\"}}, \"title\": {\"x\": 0.05}, \"xaxis\": {\"automargin\": true, \"gridcolor\": \"rgb(232,232,232)\", \"linecolor\": \"rgb(36,36,36)\", \"showgrid\": false, \"showline\": true, \"ticks\": \"outside\", \"title\": {\"standoff\": 15}, \"zeroline\": false, \"zerolinecolor\": \"rgb(36,36,36)\"}, \"yaxis\": {\"automargin\": true, \"gridcolor\": \"rgb(232,232,232)\", \"linecolor\": \"rgb(36,36,36)\", \"showgrid\": false, \"showline\": true, \"ticks\": \"outside\", \"title\": {\"standoff\": 15}, \"zeroline\": false, \"zerolinecolor\": \"rgb(36,36,36)\"}}}, \"title\": {\"font\": {\"color\": \"Black\", \"size\": 22}, \"text\": \"<b>Intertopic Distance Map\", \"x\": 0.5, \"xanchor\": \"center\", \"y\": 0.95, \"yanchor\": \"top\"}, \"width\": 650, \"xaxis\": {\"anchor\": \"y\", \"domain\": [0.0, 1.0], \"range\": [-4.402846050262451, -0.38031893223524094], \"title\": {\"text\": \"\"}, \"visible\": false}, \"yaxis\": {\"anchor\": \"x\", \"domain\": [0.0, 1.0], \"range\": [24.451755619049074, 37.26557312011719], \"title\": {\"text\": \"\"}, \"visible\": false}},                        {\"responsive\": true}                    ).then(function(){\n",
              "                            \n",
              "var gd = document.getElementById('7b35e8ac-e382-498c-88cc-50599033163f');\n",
              "var x = new MutationObserver(function (mutations, observer) {{\n",
              "        var display = window.getComputedStyle(gd).display;\n",
              "        if (!display || display === 'none') {{\n",
              "            console.log([gd, 'removed!']);\n",
              "            Plotly.purge(gd);\n",
              "            observer.disconnect();\n",
              "        }}\n",
              "}});\n",
              "\n",
              "// Listen for the removal of the full notebook cells\n",
              "var notebookContainer = gd.closest('#notebook-container');\n",
              "if (notebookContainer) {{\n",
              "    x.observe(notebookContainer, {childList: true});\n",
              "}}\n",
              "\n",
              "// Listen for the clearing of the current output cell\n",
              "var outputEl = gd.closest('.output');\n",
              "if (outputEl) {{\n",
              "    x.observe(outputEl, {childList: true});\n",
              "}}\n",
              "\n",
              "                        })                };                            </script>        </div>\n",
              "</body>\n",
              "</html>"
            ]
          },
          "metadata": {
            "tags": []
          }
        }
      ]
    },
    {
      "cell_type": "code",
      "metadata": {
        "colab": {
          "base_uri": "https://localhost:8080/"
        },
        "id": "RkjJxYTSt_gc",
        "outputId": "b21022b6-c90f-46c3-d41d-1fae7dd6d62e"
      },
      "source": [
        "new_model.get_topic(0)"
      ],
      "execution_count": 130,
      "outputs": [
        {
          "output_type": "execute_result",
          "data": {
            "text/plain": [
              "[('investors', 0.06502854637517996),\n",
              " ('value', 0.03473857481083269),\n",
              " ('investor', 0.026651765884761314),\n",
              " ('resource', 0.023620627018418806),\n",
              " ('stakeholders', 0.023450943241492238),\n",
              " ('investment', 0.022096301100285258),\n",
              " ('directors', 0.021411843849942856),\n",
              " ('opportunities', 0.02062825142058651),\n",
              " ('owner', 0.019992359939818936),\n",
              " ('benefits', 0.018902170733300385)]"
            ]
          },
          "metadata": {
            "tags": []
          },
          "execution_count": 130
        }
      ]
    },
    {
      "cell_type": "code",
      "metadata": {
        "colab": {
          "base_uri": "https://localhost:8080/"
        },
        "id": "OGNgvh5huHX_",
        "outputId": "f54f49b7-5b64-42a0-adc2-b10b517b933e"
      },
      "source": [
        "new_model.get_topic(1)"
      ],
      "execution_count": 132,
      "outputs": [
        {
          "output_type": "execute_result",
          "data": {
            "text/plain": [
              "[('stakeholders', 0.023329925158055966),\n",
              " ('company', 0.02198089228706481),\n",
              " ('employees', 0.021428609946254274),\n",
              " ('customers', 0.018640695836012192),\n",
              " ('scaling', 0.017754913307013353),\n",
              " ('customer', 0.0156397274494372),\n",
              " ('companys', 0.01518835216631714),\n",
              " ('employee', 0.014279418318249533),\n",
              " ('enhance', 0.013392881216408921),\n",
              " ('organizational', 0.012850466395401378)]"
            ]
          },
          "metadata": {
            "tags": []
          },
          "execution_count": 132
        }
      ]
    },
    {
      "cell_type": "code",
      "metadata": {
        "colab": {
          "base_uri": "https://localhost:8080/"
        },
        "id": "N_nb0DJDuLNi",
        "outputId": "36554ae2-f493-4033-a59d-b16392bf8dfb"
      },
      "source": [
        "new_model.get_topic(-1)"
      ],
      "execution_count": 133,
      "outputs": [
        {
          "output_type": "execute_result",
          "data": {
            "text/plain": [
              "[('company', 0.0238265337771743),\n",
              " ('resources', 0.01922956135336214),\n",
              " ('market', 0.014160365302423367),\n",
              " ('owners', 0.013052265537588457),\n",
              " ('brand', 0.012463634021297016),\n",
              " ('resource', 0.012232828983985209),\n",
              " ('customers', 0.0120143042441078),\n",
              " ('stakeholder', 0.011443399547677546),\n",
              " ('products', 0.010460352495146149),\n",
              " ('needs', 0.010358378317290716)]"
            ]
          },
          "metadata": {
            "tags": []
          },
          "execution_count": 133
        }
      ]
    },
    {
      "cell_type": "code",
      "metadata": {
        "colab": {
          "base_uri": "https://localhost:8080/"
        },
        "id": "t6ROcqn0uOEC",
        "outputId": "35208ad0-b7af-4cea-e6a8-3ceec391c3f2"
      },
      "source": [
        "new_model.get_topic(2)"
      ],
      "execution_count": 134,
      "outputs": [
        {
          "output_type": "execute_result",
          "data": {
            "text/plain": [
              "[('media', 0.03482219959982218),\n",
              " ('online', 0.033490689986757145),\n",
              " ('customers', 0.03348716330147806),\n",
              " ('social', 0.02791047557714467),\n",
              " ('customer', 0.025286453924659856),\n",
              " ('sales', 0.021653732451031516),\n",
              " ('users', 0.019898399771326965),\n",
              " ('audience', 0.018544730855790965),\n",
              " ('buying', 0.018544730855790965),\n",
              " ('ecommerce', 0.016361715369611517)]"
            ]
          },
          "metadata": {
            "tags": []
          },
          "execution_count": 134
        }
      ]
    },
    {
      "cell_type": "code",
      "metadata": {
        "colab": {
          "base_uri": "https://localhost:8080/"
        },
        "id": "ab9wvep9uQGx",
        "outputId": "0cd042f1-aa63-489a-cfbc-fd33537cc4ad"
      },
      "source": [
        "new_model.get_topic(3)"
      ],
      "execution_count": 136,
      "outputs": [
        {
          "output_type": "execute_result",
          "data": {
            "text/plain": [
              "[('suppliers', 0.0400188905216994),\n",
              " ('supplier', 0.029263987373194543),\n",
              " ('products', 0.025727207742950235),\n",
              " ('product', 0.02062271410010611),\n",
              " ('integrate', 0.020370501897738216),\n",
              " ('services', 0.019064449076962187),\n",
              " ('providing', 0.018182124386543656),\n",
              " ('adapt', 0.0160417935607085),\n",
              " ('standards', 0.0160417935607085),\n",
              " ('innovation', 0.014631993686597271)]"
            ]
          },
          "metadata": {
            "tags": []
          },
          "execution_count": 136
        }
      ]
    },
    {
      "cell_type": "code",
      "metadata": {
        "id": "Ck2DNN7kuRhq"
      },
      "source": [
        ""
      ],
      "execution_count": null,
      "outputs": []
    }
  ]
}